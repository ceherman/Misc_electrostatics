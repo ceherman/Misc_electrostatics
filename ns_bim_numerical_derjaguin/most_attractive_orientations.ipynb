{
 "cells": [
  {
   "cell_type": "code",
   "execution_count": 280,
   "metadata": {
    "ExecuteTime": {
     "end_time": "2021-04-15T22:23:05.686555Z",
     "start_time": "2021-04-15T22:23:05.653595Z"
    }
   },
   "outputs": [
    {
     "data": {
      "text/html": [
       "<style>.container { width:100% !important; }</style>"
      ],
      "text/plain": [
       "<IPython.core.display.HTML object>"
      ]
     },
     "metadata": {},
     "output_type": "display_data"
    },
    {
     "name": "stdout",
     "output_type": "stream",
     "text": [
      "The autoreload extension is already loaded. To reload it, use:\n",
      "  %reload_ext autoreload\n"
     ]
    }
   ],
   "source": [
    "from IPython.core.display import display, HTML, clear_output\n",
    "display(HTML(\"<style>.container { width:100% !important; }</style>\"))\n",
    "from pathlib import Path\n",
    "\n",
    "import pandas as pd\n",
    "import numpy as np\n",
    "\n",
    "import scipy\n",
    "from scipy import optimize, integrate\n",
    "from scipy import interpolate\n",
    "\n",
    "import matplotlib.pyplot as plt\n",
    "from mpl_toolkits.mplot3d import Axes3D\n",
    "from matplotlib import cm\n",
    "from matplotlib import container\n",
    "import matplotlib.ticker as ticker\n",
    "from matplotlib.ticker import NullFormatter\n",
    "from matplotlib.ticker import LinearLocator, FormatStrFormatter\n",
    "\n",
    "import time\n",
    "import math\n",
    "import random\n",
    "import multiprocessing as mp\n",
    "import os\n",
    "import subprocess\n",
    "from shutil import copyfile\n",
    "import copy\n",
    "from cubature import cubature\n",
    "\n",
    "%load_ext autoreload\n",
    "%autoreload 2\n",
    "\n",
    "from modules_protein_structure.nd_ps_2 import *\n",
    "from modules_protein_structure.nd_ps_misc import *\n",
    "\n",
    "from modules_ns_bim_spherical.geometry import *\n",
    "from modules_ns_bim_spherical.hybrid_model_oc_v1 import *\n",
    "from modules_ns_bim_spherical.numerical_Derjaguin_v1 import *\n",
    "from modules_ns_bim_spherical.oc_plots_v1 import *\n",
    "from modules_ns_bim_spherical.orthogonal_collocation_v1 import *\n",
    "from modules_ns_bim_spherical.v2_ns_bim_helper_plus import *\n",
    "from modules_ns_bim_spherical.monte_carlo_functions import *\n",
    "\n",
    "from biopandas.pdb import PandasPdb\n",
    "import varname"
   ]
  },
  {
   "cell_type": "markdown",
   "metadata": {},
   "source": [
    "# 1. From buried_charges.ipynb (in extra_ubuntu_spa/correlation_aex/)\n",
    "\n",
    "## Identification of surface atoms"
   ]
  },
  {
   "cell_type": "code",
   "execution_count": 281,
   "metadata": {
    "ExecuteTime": {
     "end_time": "2021-04-15T22:23:06.558683Z",
     "start_time": "2021-04-15T22:23:06.545483Z"
    }
   },
   "outputs": [
    {
     "data": {
      "text/plain": [
       "['adh_pH_7',\n",
       " 'blg_pH_7',\n",
       " 'cat_pH_7',\n",
       " 'lys_pH_5',\n",
       " 'lys_pH_7',\n",
       " 'lys_pH_9',\n",
       " 'ova_pH_7']"
      ]
     },
     "execution_count": 281,
     "metadata": {},
     "output_type": "execute_result"
    }
   ],
   "source": [
    "prot_folders = os.listdir('ns_bim_spherical/structure_files_from_depth_work/pqr_structure_files/')\n",
    "prot_folders.sort()\n",
    "prot_folders"
   ]
  },
  {
   "cell_type": "code",
   "execution_count": 282,
   "metadata": {
    "ExecuteTime": {
     "end_time": "2021-04-15T22:23:09.852074Z",
     "start_time": "2021-04-15T22:23:07.059303Z"
    }
   },
   "outputs": [],
   "source": [
    "dfs_pdb = {}\n",
    "dfs_pdb_dep = {} # Depths of each atom in the .pdb file beneath the VdW surface\n",
    "dfs_pqr = {} # .pqr file (protein structure) -- note that in this format, BioPandas \n",
    "             # loads the partial charge into the occupancy column\n",
    "dfs_pqr_dep = {} # Depths of each atom in the .pqr file beneath the VdW surface\n",
    "\n",
    "for f in prot_folders:\n",
    "    pdb_path = f'./ns_bim_spherical/structure_files_from_depth_work/pdb_structure_files/{f}/'\n",
    "    pdb_file = pdb_path + [i for i in os.listdir(pdb_path) if '.pdb' in i][0]\n",
    "    dep_file = pdb_path + [i for i in os.listdir(pdb_path) if '_atom.dep' in i][0]\n",
    "    dfs_pdb[f]     = PandasPdb().read_pdb(pdb_file)\n",
    "    dfs_pdb_dep[f] = pd.read_fwf(dep_file)\n",
    "    \n",
    "    pqr_path = f'./ns_bim_spherical/structure_files_from_depth_work/pqr_structure_files/{f}/'\n",
    "    pqr_file = pqr_path + [i for i in os.listdir(pqr_path) if '.pqr' in i][0]\n",
    "    dep_file = pqr_path + [i for i in os.listdir(pqr_path) if '_atom.dep' in i][0]\n",
    "    dfs_pqr[f]     = PandasPdb().read_pdb(pqr_file)\n",
    "    dfs_pqr_dep[f] = pd.read_fwf(dep_file)"
   ]
  },
  {
   "cell_type": "code",
   "execution_count": 283,
   "metadata": {
    "ExecuteTime": {
     "end_time": "2021-04-15T22:23:53.204793Z",
     "start_time": "2021-04-15T22:23:09.853512Z"
    }
   },
   "outputs": [],
   "source": [
    "for f in prot_folders:\n",
    "    for i, icont in dfs_pdb[f].df['ATOM'].iterrows():\n",
    "        df_dep = dfs_pdb_dep[f]\n",
    "        depth = df_dep.loc[df_dep['atom#']==icont.atom_number, 'depth'].iloc[0]\n",
    "        dfs_pdb[f].df['ATOM'].at[i, 'depth'] = depth\n",
    "\n",
    "    for i, icont in dfs_pdb[f].df['HETATM'].iterrows():\n",
    "        df_dep = dfs_pdb_dep[f]\n",
    "        depth = df_dep.loc[df_dep['atom#']==icont.atom_number, 'depth'].iloc[0]\n",
    "        dfs_pdb[f].df['HETATM'].at[i, 'depth'] = depth\n",
    "        \n",
    "    for i, icont in dfs_pqr[f].df['ATOM'].iterrows():\n",
    "        df_dep = dfs_pqr_dep[f]\n",
    "        depth = df_dep.loc[df_dep['atom#']==icont.atom_number, 'depth'].iloc[0]\n",
    "        dfs_pqr[f].df['ATOM'].at[i, 'depth'] = depth\n",
    "\n",
    "    for i, icont in dfs_pqr[f].df['HETATM'].iterrows():\n",
    "        df_dep = dfs_pqr_dep[f]\n",
    "        depth = df_dep.loc[df_dep['atom#']==icont.atom_number, 'depth'].iloc[0]\n",
    "        dfs_pqr[f].df['HETATM'].at[i, 'depth'] = depth"
   ]
  },
  {
   "cell_type": "markdown",
   "metadata": {},
   "source": [
    "### Manually add Zn and Fe groups"
   ]
  },
  {
   "cell_type": "code",
   "execution_count": 284,
   "metadata": {
    "ExecuteTime": {
     "end_time": "2021-04-15T22:23:53.252110Z",
     "start_time": "2021-04-15T22:23:53.206569Z"
    }
   },
   "outputs": [],
   "source": [
    "f = 'adh_pH_7'\n",
    "df = dfs_pdb[f].df['HETATM'].copy()\n",
    "df = df[df.atom_name=='ZN']\n",
    "df.occupancy = 2.0\n",
    "dfs_pqr[f].df['ATOM'] = pd.concat([dfs_pqr[f].df['ATOM'], df], ignore_index=True)\n",
    "\n",
    "f = 'cat_pH_7'\n",
    "df = dfs_pdb[f].df['HETATM'].copy()\n",
    "df = df[df.atom_name=='FE']\n",
    "df.occupancy = 2.0\n",
    "dfs_pqr[f].df['ATOM'] = pd.concat([dfs_pqr[f].df['ATOM'], df], ignore_index=True)"
   ]
  },
  {
   "cell_type": "markdown",
   "metadata": {
    "ExecuteTime": {
     "end_time": "2021-04-15T19:20:25.767561Z",
     "start_time": "2021-04-15T19:20:25.752291Z"
    }
   },
   "source": [
    "### Center protein and find surface atoms"
   ]
  },
  {
   "cell_type": "code",
   "execution_count": 285,
   "metadata": {
    "ExecuteTime": {
     "end_time": "2021-04-15T22:23:53.281400Z",
     "start_time": "2021-04-15T22:23:53.253498Z"
    }
   },
   "outputs": [],
   "source": [
    "for f in prot_folders:\n",
    "    df = dfs_pqr[f].df['ATOM']\n",
    "    (x_cent, y_cent, z_cent) = (df.x_coord.mean(), df.y_coord.mean(), df.z_coord.mean())\n",
    "    \n",
    "    df['x_orig'] = df.x_coord.copy()\n",
    "    df['y_orig'] = df.y_coord.copy()\n",
    "    df['z_orig'] = df.z_coord.copy()\n",
    "    \n",
    "    df.x_coord -= x_cent\n",
    "    df.y_coord -= y_cent\n",
    "    df.z_coord -= z_cent"
   ]
  },
  {
   "cell_type": "code",
   "execution_count": 286,
   "metadata": {
    "ExecuteTime": {
     "end_time": "2021-04-15T22:23:59.464750Z",
     "start_time": "2021-04-15T22:23:53.282555Z"
    }
   },
   "outputs": [],
   "source": [
    "# Assign unique sequential residue numbers \n",
    "for f in prot_folders:\n",
    "    df = dfs_pqr[f].df['ATOM']\n",
    "    residue_number = -1    \n",
    "    \n",
    "    my_residue_number = 0\n",
    "    for i, icont in df.iterrows():\n",
    "        if icont.residue_number != residue_number:\n",
    "            my_residue_number += 1\n",
    "            residue_number = icont.residue_number\n",
    "        df.at[i, 'my_residue_number'] = my_residue_number"
   ]
  },
  {
   "cell_type": "code",
   "execution_count": 287,
   "metadata": {
    "ExecuteTime": {
     "end_time": "2021-04-15T22:23:59.507339Z",
     "start_time": "2021-04-15T22:23:59.466157Z"
    }
   },
   "outputs": [],
   "source": [
    "surf_atom = {}\n",
    "\n",
    "for f in prot_folders:\n",
    "    df = dfs_pqr[f].df['ATOM']\n",
    "    try:\n",
    "        df.drop(columns=['blank_1', 'alt_loc', 'blank_2', 'chain_id', 'insertion', \n",
    "                    'blank_3', 'b_factor', 'blank_4', 'segment_id', 'element_symbol',\n",
    "                    'charge'], inplace=True)\n",
    "    except:\n",
    "        pass\n",
    "    df_surf = df[df.depth < 3.2].copy()\n",
    "    df_surf.reset_index(drop=True, inplace=True)\n",
    "    surf_atom[f] = df_surf"
   ]
  },
  {
   "cell_type": "code",
   "execution_count": null,
   "metadata": {},
   "outputs": [],
   "source": []
  },
  {
   "cell_type": "code",
   "execution_count": null,
   "metadata": {},
   "outputs": [],
   "source": []
  },
  {
   "cell_type": "code",
   "execution_count": null,
   "metadata": {},
   "outputs": [],
   "source": []
  },
  {
   "cell_type": "markdown",
   "metadata": {},
   "source": [
    "# 2. From spherical_NSBIM.ipynb\n",
    "\n",
    "## Identification of most attractive orientations"
   ]
  },
  {
   "cell_type": "code",
   "execution_count": 288,
   "metadata": {
    "ExecuteTime": {
     "end_time": "2021-04-15T22:23:59.519009Z",
     "start_time": "2021-04-15T22:23:59.508488Z"
    }
   },
   "outputs": [],
   "source": [
    "base_names = ['adh_pH_7', 'blg_pH_7', 'cat_pH_7', 'lys_pH_5', 'lys_pH_7', 'lys_pH_9', \n",
    "              'ova_pH_7']"
   ]
  },
  {
   "cell_type": "markdown",
   "metadata": {
    "ExecuteTime": {
     "end_time": "2020-08-19T19:38:57.193370Z",
     "start_time": "2020-08-19T19:38:57.191109Z"
    }
   },
   "source": [
    "### For data based on PDB2PQR partial charges"
   ]
  },
  {
   "cell_type": "code",
   "execution_count": 289,
   "metadata": {
    "ExecuteTime": {
     "end_time": "2021-04-15T22:23:59.531793Z",
     "start_time": "2021-04-15T22:23:59.520771Z"
    }
   },
   "outputs": [],
   "source": [
    "results_dir = 'results_pqr_partial_charges'\n",
    "z0          = 3.0e-10 \n",
    "\n",
    "nsbim_data_dir   = 'ns_bim_spherical/' + results_dir + '/ns_bim_data/'\n",
    "integrand_dir    = 'ns_bim_spherical/' + results_dir + '/integrand_results/'\n",
    "integral_dir     = 'ns_bim_spherical/' + results_dir + '/integral_results/'\n",
    "sum_contribs_dir = 'ns_bim_spherical/' + results_dir + '/summed_integral_contribs/'\n",
    "images_dir       = 'ns_bim_spherical/' + results_dir + '/images/'"
   ]
  },
  {
   "cell_type": "code",
   "execution_count": 290,
   "metadata": {
    "ExecuteTime": {
     "end_time": "2021-04-15T22:23:59.543339Z",
     "start_time": "2021-04-15T22:23:59.533074Z"
    }
   },
   "outputs": [],
   "source": [
    "protein_folders = os.listdir(nsbim_data_dir)\n",
    "protein_folders.sort()\n",
    "# protein_folders"
   ]
  },
  {
   "cell_type": "code",
   "execution_count": 291,
   "metadata": {
    "ExecuteTime": {
     "end_time": "2021-04-15T22:28:04.566817Z",
     "start_time": "2021-04-15T22:23:59.544447Z"
    }
   },
   "outputs": [],
   "source": [
    "elements_dict, node_dict, charge_dict = get_elem_and_node_dicts(nsbim_data_dir, \n",
    "                                                                protein_folders)\n",
    "elements_dict = fill_elem_dict(elements_dict, node_dict, protein_folders)"
   ]
  },
  {
   "cell_type": "code",
   "execution_count": 311,
   "metadata": {
    "ExecuteTime": {
     "end_time": "2021-04-15T22:33:31.641902Z",
     "start_time": "2021-04-15T22:33:31.504535Z"
    }
   },
   "outputs": [],
   "source": [
    "path = './ns_bim_spherical/results_pqr_partial_charges/integral_results/'\n",
    "files = os.listdir(path)\n",
    "files_200 = [i for i in files if '50' in i and (('phq' in i) or ('sep' in i))]\n",
    "files_200.sort()\n",
    "\n",
    "dict_vals = {}\n",
    "dict_orient = {}\n",
    "\n",
    "for f in files_200:\n",
    "    name = f[4:f.find('.')]\n",
    "    df_element = elements_dict[name]\n",
    "    \n",
    "    dict_vals[f] = pd.read_csv(path + f)\n",
    "    dict_vals[f].rename(columns={'potential_V':'potential_V_2'}, inplace=True)\n",
    "    \n",
    "    df = pd.concat([dict_vals[f], df_element], axis=1, join='inner')\n",
    "    df.sort_values(by='integral', inplace=True, ascending=False)\n",
    "    df.reset_index(inplace=True, drop=True)\n",
    "    \n",
    "    dict_orient[name] = df[:200].copy() # PARAMETER"
   ]
  },
  {
   "cell_type": "code",
   "execution_count": null,
   "metadata": {},
   "outputs": [],
   "source": []
  },
  {
   "cell_type": "code",
   "execution_count": null,
   "metadata": {},
   "outputs": [],
   "source": []
  },
  {
   "cell_type": "markdown",
   "metadata": {},
   "source": [
    "# 3. Residues of closest approach in most attractive orientations"
   ]
  },
  {
   "cell_type": "code",
   "execution_count": 294,
   "metadata": {
    "ExecuteTime": {
     "end_time": "2021-04-15T22:28:04.672099Z",
     "start_time": "2021-04-15T22:28:04.658378Z"
    }
   },
   "outputs": [],
   "source": [
    "def get_magnitude(x, y, z):\n",
    "    return np.sqrt(x**2.0 + y**2.0 + z**2.0)\n",
    "\n",
    "def get_line_distance(n_x, n_y, n_z, x, y, z):\n",
    "    \"\"\"https://mathworld.wolfram.com/Point-LineDistance3-Dimensional.html\n",
    "       https://en.wikipedia.org/wiki/Cross_product\"\"\"\n",
    "    \n",
    "    v1_x = x\n",
    "    v1_y = y\n",
    "    v1_z = z\n",
    "    \n",
    "    v2_x = x - n_x\n",
    "    v2_y = y - n_y\n",
    "    v2_z = z - n_z\n",
    "    \n",
    "    v3_x = n_x\n",
    "    v3_y = n_y\n",
    "    v3_z = n_z\n",
    "    \n",
    "    v4_x = v1_y * v2_z - v1_z * v2_y\n",
    "    v4_y = v1_z * v2_x - v1_x * v2_z\n",
    "    v4_z = v1_x * v2_y - v1_y * v2_x\n",
    "    \n",
    "    num_mag = get_magnitude(v4_x, v4_y, v4_z)\n",
    "    den_mag = get_magnitude(v3_x, v3_y, v3_z)\n",
    "    distance = num_mag/den_mag\n",
    "    return distance"
   ]
  },
  {
   "cell_type": "code",
   "execution_count": 354,
   "metadata": {
    "ExecuteTime": {
     "end_time": "2021-04-15T23:35:25.912856Z",
     "start_time": "2021-04-15T23:34:59.827635Z"
    }
   },
   "outputs": [],
   "source": [
    "selection_all = {}\n",
    "selection_pruned = {}\n",
    "\n",
    "for f in prot_folders:\n",
    "    long_name = [i for i in files_200 if f in i][0]\n",
    "    name      = long_name[4:long_name.find('.')]\n",
    "    df_orient = dict_orient[name]\n",
    "    \n",
    "    rows_all = []\n",
    "    rows_pruned = []\n",
    "    \n",
    "    for i, cont in df_orient.iterrows():\n",
    "        df_surf = surf_atom[f].copy()\n",
    "        df_surf['d_to_vec'] = get_line_distance(cont.n_x_nm, cont.n_y_nm, cont.n_z_nm, \n",
    "                                                df_surf.x_coord, df_surf.y_coord, df_surf.z_coord)\n",
    "        if cont.n_x_nm == 0:\n",
    "            df_surf['prod_x'] = 1.0\n",
    "        else:\n",
    "            df_surf['prod_x'] = cont.n_x_nm*df_surf.x_coord\n",
    "        \n",
    "        if cont.n_y_nm == 0:\n",
    "            df_surf['prod_y'] = 1.0\n",
    "        else:\n",
    "            df_surf['prod_y'] = cont.n_y_nm*df_surf.y_coord\n",
    "            \n",
    "        if cont.n_z_nm == 0:\n",
    "            df_surf['prod_z'] = 1.0\n",
    "        else:\n",
    "            df_surf['prod_z'] = cont.n_z_nm*df_surf.z_coord\n",
    "        \n",
    "        df_surf.sort_values(by='d_to_vec', inplace=True)\n",
    "        df_sort = df_surf[(df_surf.prod_x > 0) & (df_surf.prod_y > 0) & (df_surf.prod_z > 0)] # make sure the vector is pointing the right way\n",
    "        df_sort.reset_index(drop=True, inplace=True)\n",
    "        \n",
    "        for j in range(15): # PARAMETER - to (hopefully) find the charge in the patch - \"pruned\"\n",
    "            extra = pd.Series({'orientation_num':i, 'integral':cont.integral,\n",
    "                              'potential_V':cont.potential_V, \n",
    "                               'charge_C_m2':cont.charge_C_m2})            \n",
    "            rows_pruned.append(df_sort.loc[j].append(extra)) \n",
    "        \n",
    "        for j in range(1): # PARAMETER - to pick out just the closest residue - \"all\"\n",
    "            extra = pd.Series({'orientation_num':i, 'integral':cont.integral,\n",
    "                              'potential_V':cont.potential_V, \n",
    "                               'charge_C_m2':cont.charge_C_m2})            \n",
    "            rows_all.append(df_sort.loc[j].append(extra)) \n",
    "    \n",
    "    df = pd.DataFrame(rows_all)\n",
    "    df.reset_index(inplace=True, drop=True)\n",
    "    df.drop_duplicates(subset=['my_residue_number'], inplace=True, ignore_index=True)    \n",
    "    df.drop(columns=['prod_x', 'prod_y', 'prod_z'], inplace=True)\n",
    "    df.to_csv('./ns_bim_spherical/orientations_to_explore/all_residues/' + f + '.csv', index=False)\n",
    "    selection_all[f] = df\n",
    "    \n",
    "    df = pd.DataFrame(rows_pruned)\n",
    "    df.reset_index(inplace=True, drop=True)\n",
    "    df.drop_duplicates(subset=['my_residue_number'], inplace=True, ignore_index=True)    \n",
    "    df.drop(columns=['prod_x', 'prod_y', 'prod_z'], inplace=True)\n",
    "    if 'lys' in f: # CEX - basic residues\n",
    "        df_pruned = df[(df.residue_name == 'HIS') | (df.residue_name == 'LYS') | (df.residue_name == 'ARG')]\n",
    "    else: # AEX - acidic residues\n",
    "        df_pruned = df[(df.residue_name == 'ASP') | (df.residue_name == 'GLU') | (df.residue_name == 'CYS') | (df.residue_name == 'TYR')]\n",
    "    df_pruned.to_csv('./ns_bim_spherical/orientations_to_explore/charged_residues/' + f + '.csv', index=False)\n",
    "    selection_pruned[f] = df_pruned"
   ]
  },
  {
   "cell_type": "code",
   "execution_count": 355,
   "metadata": {
    "ExecuteTime": {
     "end_time": "2021-04-15T23:35:25.927763Z",
     "start_time": "2021-04-15T23:35:25.914243Z"
    }
   },
   "outputs": [
    {
     "name": "stdout",
     "output_type": "stream",
     "text": [
      "adh_pH_7 64 23\n",
      "blg_pH_7 14 10\n",
      "cat_pH_7 42 20\n",
      "lys_pH_5 8 4\n",
      "lys_pH_7 5 3\n",
      "lys_pH_9 7 3\n",
      "ova_pH_7 10 9\n"
     ]
    }
   ],
   "source": [
    "for f in prot_folders:\n",
    "    df_all = selection_all[f]\n",
    "    df_pruned = selection_pruned[f]\n",
    "    print(f, len(df_all), len(df_pruned))"
   ]
  },
  {
   "cell_type": "code",
   "execution_count": 356,
   "metadata": {
    "ExecuteTime": {
     "end_time": "2021-04-15T23:35:25.956035Z",
     "start_time": "2021-04-15T23:35:25.929157Z"
    }
   },
   "outputs": [
    {
     "data": {
      "text/html": [
       "<div>\n",
       "<style scoped>\n",
       "    .dataframe tbody tr th:only-of-type {\n",
       "        vertical-align: middle;\n",
       "    }\n",
       "\n",
       "    .dataframe tbody tr th {\n",
       "        vertical-align: top;\n",
       "    }\n",
       "\n",
       "    .dataframe thead th {\n",
       "        text-align: right;\n",
       "    }\n",
       "</style>\n",
       "<table border=\"1\" class=\"dataframe\">\n",
       "  <thead>\n",
       "    <tr style=\"text-align: right;\">\n",
       "      <th></th>\n",
       "      <th>record_name</th>\n",
       "      <th>atom_number</th>\n",
       "      <th>atom_name</th>\n",
       "      <th>residue_name</th>\n",
       "      <th>residue_number</th>\n",
       "      <th>x_coord</th>\n",
       "      <th>y_coord</th>\n",
       "      <th>z_coord</th>\n",
       "      <th>occupancy</th>\n",
       "      <th>line_idx</th>\n",
       "      <th>depth</th>\n",
       "      <th>x_orig</th>\n",
       "      <th>y_orig</th>\n",
       "      <th>z_orig</th>\n",
       "      <th>my_residue_number</th>\n",
       "      <th>d_to_vec</th>\n",
       "      <th>orientation_num</th>\n",
       "      <th>integral</th>\n",
       "      <th>potential_V</th>\n",
       "      <th>charge_C_m2</th>\n",
       "    </tr>\n",
       "  </thead>\n",
       "  <tbody>\n",
       "    <tr>\n",
       "      <th>0</th>\n",
       "      <td>ATOM</td>\n",
       "      <td>341</td>\n",
       "      <td>O</td>\n",
       "      <td>ALA</td>\n",
       "      <td>46</td>\n",
       "      <td>-3.085573</td>\n",
       "      <td>15.112957</td>\n",
       "      <td>-10.898786</td>\n",
       "      <td>-0.55</td>\n",
       "      <td>397</td>\n",
       "      <td>2.880</td>\n",
       "      <td>13.007</td>\n",
       "      <td>47.087</td>\n",
       "      <td>12.468</td>\n",
       "      <td>23.0</td>\n",
       "      <td>0.822387</td>\n",
       "      <td>0.0</td>\n",
       "      <td>114.594209</td>\n",
       "      <td>-0.120958</td>\n",
       "      <td>-0.283016</td>\n",
       "    </tr>\n",
       "    <tr>\n",
       "      <th>1</th>\n",
       "      <td>ATOM</td>\n",
       "      <td>357</td>\n",
       "      <td>HB2</td>\n",
       "      <td>ASN</td>\n",
       "      <td>47</td>\n",
       "      <td>-2.197573</td>\n",
       "      <td>17.574957</td>\n",
       "      <td>-10.658786</td>\n",
       "      <td>0.00</td>\n",
       "      <td>413</td>\n",
       "      <td>2.600</td>\n",
       "      <td>13.895</td>\n",
       "      <td>49.549</td>\n",
       "      <td>12.708</td>\n",
       "      <td>24.0</td>\n",
       "      <td>0.716737</td>\n",
       "      <td>4.0</td>\n",
       "      <td>111.455032</td>\n",
       "      <td>-0.100673</td>\n",
       "      <td>-0.096241</td>\n",
       "    </tr>\n",
       "    <tr>\n",
       "      <th>2</th>\n",
       "      <td>ATOM</td>\n",
       "      <td>373</td>\n",
       "      <td>HG3</td>\n",
       "      <td>GLU</td>\n",
       "      <td>48</td>\n",
       "      <td>-4.550573</td>\n",
       "      <td>14.750957</td>\n",
       "      <td>-8.576786</td>\n",
       "      <td>0.00</td>\n",
       "      <td>429</td>\n",
       "      <td>2.600</td>\n",
       "      <td>11.542</td>\n",
       "      <td>46.725</td>\n",
       "      <td>14.790</td>\n",
       "      <td>25.0</td>\n",
       "      <td>1.118506</td>\n",
       "      <td>12.0</td>\n",
       "      <td>107.772115</td>\n",
       "      <td>-0.136244</td>\n",
       "      <td>-0.224093</td>\n",
       "    </tr>\n",
       "    <tr>\n",
       "      <th>3</th>\n",
       "      <td>ATOM</td>\n",
       "      <td>380</td>\n",
       "      <td>O</td>\n",
       "      <td>ASN</td>\n",
       "      <td>49</td>\n",
       "      <td>-2.795573</td>\n",
       "      <td>10.776957</td>\n",
       "      <td>-4.931786</td>\n",
       "      <td>-0.55</td>\n",
       "      <td>436</td>\n",
       "      <td>2.880</td>\n",
       "      <td>13.297</td>\n",
       "      <td>42.751</td>\n",
       "      <td>18.435</td>\n",
       "      <td>26.0</td>\n",
       "      <td>1.336810</td>\n",
       "      <td>13.0</td>\n",
       "      <td>107.630971</td>\n",
       "      <td>-0.132028</td>\n",
       "      <td>-0.199924</td>\n",
       "    </tr>\n",
       "    <tr>\n",
       "      <th>4</th>\n",
       "      <td>ATOM</td>\n",
       "      <td>403</td>\n",
       "      <td>HG12</td>\n",
       "      <td>ILE</td>\n",
       "      <td>50</td>\n",
       "      <td>-2.049573</td>\n",
       "      <td>8.471957</td>\n",
       "      <td>-7.393786</td>\n",
       "      <td>0.00</td>\n",
       "      <td>459</td>\n",
       "      <td>3.182</td>\n",
       "      <td>14.043</td>\n",
       "      <td>40.446</td>\n",
       "      <td>15.973</td>\n",
       "      <td>27.0</td>\n",
       "      <td>0.694980</td>\n",
       "      <td>15.0</td>\n",
       "      <td>105.747533</td>\n",
       "      <td>-0.105381</td>\n",
       "      <td>-0.214848</td>\n",
       "    </tr>\n",
       "    <tr>\n",
       "      <th>5</th>\n",
       "      <td>ATOM</td>\n",
       "      <td>329</td>\n",
       "      <td>HB3</td>\n",
       "      <td>HIS</td>\n",
       "      <td>45</td>\n",
       "      <td>-4.017573</td>\n",
       "      <td>10.710957</td>\n",
       "      <td>-8.982786</td>\n",
       "      <td>0.00</td>\n",
       "      <td>385</td>\n",
       "      <td>2.839</td>\n",
       "      <td>12.075</td>\n",
       "      <td>42.685</td>\n",
       "      <td>14.384</td>\n",
       "      <td>22.0</td>\n",
       "      <td>0.959347</td>\n",
       "      <td>30.0</td>\n",
       "      <td>97.828830</td>\n",
       "      <td>-0.102664</td>\n",
       "      <td>-0.124505</td>\n",
       "    </tr>\n",
       "    <tr>\n",
       "      <th>6</th>\n",
       "      <td>ATOM</td>\n",
       "      <td>5926</td>\n",
       "      <td>HH12</td>\n",
       "      <td>ARG</td>\n",
       "      <td>387</td>\n",
       "      <td>-0.210573</td>\n",
       "      <td>11.938957</td>\n",
       "      <td>-9.810786</td>\n",
       "      <td>0.40</td>\n",
       "      <td>5767</td>\n",
       "      <td>3.182</td>\n",
       "      <td>15.882</td>\n",
       "      <td>43.913</td>\n",
       "      <td>13.556</td>\n",
       "      <td>362.0</td>\n",
       "      <td>0.692583</td>\n",
       "      <td>53.0</td>\n",
       "      <td>85.086244</td>\n",
       "      <td>-0.068141</td>\n",
       "      <td>0.070781</td>\n",
       "    </tr>\n",
       "    <tr>\n",
       "      <th>7</th>\n",
       "      <td>ATOM</td>\n",
       "      <td>4621</td>\n",
       "      <td>OH</td>\n",
       "      <td>TYR</td>\n",
       "      <td>297</td>\n",
       "      <td>-4.032573</td>\n",
       "      <td>6.892957</td>\n",
       "      <td>-4.913786</td>\n",
       "      <td>-0.49</td>\n",
       "      <td>4487</td>\n",
       "      <td>2.880</td>\n",
       "      <td>12.060</td>\n",
       "      <td>38.867</td>\n",
       "      <td>18.453</td>\n",
       "      <td>274.0</td>\n",
       "      <td>1.149858</td>\n",
       "      <td>95.0</td>\n",
       "      <td>68.749363</td>\n",
       "      <td>-0.148221</td>\n",
       "      <td>-0.301711</td>\n",
       "    </tr>\n",
       "    <tr>\n",
       "      <th>8</th>\n",
       "      <td>ATOM</td>\n",
       "      <td>5956</td>\n",
       "      <td>HG22</td>\n",
       "      <td>VAL</td>\n",
       "      <td>389</td>\n",
       "      <td>-0.406573</td>\n",
       "      <td>15.808957</td>\n",
       "      <td>-5.366786</td>\n",
       "      <td>0.00</td>\n",
       "      <td>5797</td>\n",
       "      <td>2.894</td>\n",
       "      <td>15.686</td>\n",
       "      <td>47.783</td>\n",
       "      <td>18.000</td>\n",
       "      <td>364.0</td>\n",
       "      <td>1.225352</td>\n",
       "      <td>126.0</td>\n",
       "      <td>60.005228</td>\n",
       "      <td>-0.072232</td>\n",
       "      <td>0.273444</td>\n",
       "    </tr>\n",
       "    <tr>\n",
       "      <th>9</th>\n",
       "      <td>ATOM</td>\n",
       "      <td>461</td>\n",
       "      <td>HG</td>\n",
       "      <td>CYS</td>\n",
       "      <td>53</td>\n",
       "      <td>0.105427</td>\n",
       "      <td>-2.616043</td>\n",
       "      <td>1.906214</td>\n",
       "      <td>0.29</td>\n",
       "      <td>517</td>\n",
       "      <td>2.600</td>\n",
       "      <td>16.198</td>\n",
       "      <td>29.358</td>\n",
       "      <td>25.273</td>\n",
       "      <td>30.0</td>\n",
       "      <td>0.735122</td>\n",
       "      <td>153.0</td>\n",
       "      <td>50.621884</td>\n",
       "      <td>-0.087406</td>\n",
       "      <td>0.140111</td>\n",
       "    </tr>\n",
       "  </tbody>\n",
       "</table>\n",
       "</div>"
      ],
      "text/plain": [
       "  record_name  atom_number atom_name residue_name  residue_number   x_coord  \\\n",
       "0        ATOM          341         O          ALA              46 -3.085573   \n",
       "1        ATOM          357       HB2          ASN              47 -2.197573   \n",
       "2        ATOM          373       HG3          GLU              48 -4.550573   \n",
       "3        ATOM          380         O          ASN              49 -2.795573   \n",
       "4        ATOM          403      HG12          ILE              50 -2.049573   \n",
       "5        ATOM          329       HB3          HIS              45 -4.017573   \n",
       "6        ATOM         5926      HH12          ARG             387 -0.210573   \n",
       "7        ATOM         4621        OH          TYR             297 -4.032573   \n",
       "8        ATOM         5956      HG22          VAL             389 -0.406573   \n",
       "9        ATOM          461        HG          CYS              53  0.105427   \n",
       "\n",
       "     y_coord    z_coord  occupancy  line_idx  depth  x_orig  y_orig  z_orig  \\\n",
       "0  15.112957 -10.898786      -0.55       397  2.880  13.007  47.087  12.468   \n",
       "1  17.574957 -10.658786       0.00       413  2.600  13.895  49.549  12.708   \n",
       "2  14.750957  -8.576786       0.00       429  2.600  11.542  46.725  14.790   \n",
       "3  10.776957  -4.931786      -0.55       436  2.880  13.297  42.751  18.435   \n",
       "4   8.471957  -7.393786       0.00       459  3.182  14.043  40.446  15.973   \n",
       "5  10.710957  -8.982786       0.00       385  2.839  12.075  42.685  14.384   \n",
       "6  11.938957  -9.810786       0.40      5767  3.182  15.882  43.913  13.556   \n",
       "7   6.892957  -4.913786      -0.49      4487  2.880  12.060  38.867  18.453   \n",
       "8  15.808957  -5.366786       0.00      5797  2.894  15.686  47.783  18.000   \n",
       "9  -2.616043   1.906214       0.29       517  2.600  16.198  29.358  25.273   \n",
       "\n",
       "   my_residue_number  d_to_vec  orientation_num    integral  potential_V  \\\n",
       "0               23.0  0.822387              0.0  114.594209    -0.120958   \n",
       "1               24.0  0.716737              4.0  111.455032    -0.100673   \n",
       "2               25.0  1.118506             12.0  107.772115    -0.136244   \n",
       "3               26.0  1.336810             13.0  107.630971    -0.132028   \n",
       "4               27.0  0.694980             15.0  105.747533    -0.105381   \n",
       "5               22.0  0.959347             30.0   97.828830    -0.102664   \n",
       "6              362.0  0.692583             53.0   85.086244    -0.068141   \n",
       "7              274.0  1.149858             95.0   68.749363    -0.148221   \n",
       "8              364.0  1.225352            126.0   60.005228    -0.072232   \n",
       "9               30.0  0.735122            153.0   50.621884    -0.087406   \n",
       "\n",
       "   charge_C_m2  \n",
       "0    -0.283016  \n",
       "1    -0.096241  \n",
       "2    -0.224093  \n",
       "3    -0.199924  \n",
       "4    -0.214848  \n",
       "5    -0.124505  \n",
       "6     0.070781  \n",
       "7    -0.301711  \n",
       "8     0.273444  \n",
       "9     0.140111  "
      ]
     },
     "execution_count": 356,
     "metadata": {},
     "output_type": "execute_result"
    }
   ],
   "source": [
    "selection_all[f]"
   ]
  },
  {
   "cell_type": "code",
   "execution_count": 357,
   "metadata": {
    "ExecuteTime": {
     "end_time": "2021-04-15T23:35:25.981919Z",
     "start_time": "2021-04-15T23:35:25.957177Z"
    }
   },
   "outputs": [
    {
     "data": {
      "text/html": [
       "<div>\n",
       "<style scoped>\n",
       "    .dataframe tbody tr th:only-of-type {\n",
       "        vertical-align: middle;\n",
       "    }\n",
       "\n",
       "    .dataframe tbody tr th {\n",
       "        vertical-align: top;\n",
       "    }\n",
       "\n",
       "    .dataframe thead th {\n",
       "        text-align: right;\n",
       "    }\n",
       "</style>\n",
       "<table border=\"1\" class=\"dataframe\">\n",
       "  <thead>\n",
       "    <tr style=\"text-align: right;\">\n",
       "      <th></th>\n",
       "      <th>record_name</th>\n",
       "      <th>atom_number</th>\n",
       "      <th>atom_name</th>\n",
       "      <th>residue_name</th>\n",
       "      <th>residue_number</th>\n",
       "      <th>x_coord</th>\n",
       "      <th>y_coord</th>\n",
       "      <th>z_coord</th>\n",
       "      <th>occupancy</th>\n",
       "      <th>line_idx</th>\n",
       "      <th>depth</th>\n",
       "      <th>x_orig</th>\n",
       "      <th>y_orig</th>\n",
       "      <th>z_orig</th>\n",
       "      <th>my_residue_number</th>\n",
       "      <th>d_to_vec</th>\n",
       "      <th>orientation_num</th>\n",
       "      <th>integral</th>\n",
       "      <th>potential_V</th>\n",
       "      <th>charge_C_m2</th>\n",
       "    </tr>\n",
       "  </thead>\n",
       "  <tbody>\n",
       "    <tr>\n",
       "      <th>4</th>\n",
       "      <td>ATOM</td>\n",
       "      <td>373</td>\n",
       "      <td>HG3</td>\n",
       "      <td>GLU</td>\n",
       "      <td>48</td>\n",
       "      <td>-4.550573</td>\n",
       "      <td>14.750957</td>\n",
       "      <td>-8.576786</td>\n",
       "      <td>0.00</td>\n",
       "      <td>429</td>\n",
       "      <td>2.600</td>\n",
       "      <td>11.542</td>\n",
       "      <td>46.725</td>\n",
       "      <td>14.790</td>\n",
       "      <td>25.0</td>\n",
       "      <td>2.258941</td>\n",
       "      <td>0.0</td>\n",
       "      <td>114.594209</td>\n",
       "      <td>-0.120958</td>\n",
       "      <td>-0.283016</td>\n",
       "    </tr>\n",
       "    <tr>\n",
       "      <th>7</th>\n",
       "      <td>ATOM</td>\n",
       "      <td>448</td>\n",
       "      <td>HB3</td>\n",
       "      <td>TYR</td>\n",
       "      <td>52</td>\n",
       "      <td>-2.826573</td>\n",
       "      <td>2.722957</td>\n",
       "      <td>-3.660786</td>\n",
       "      <td>0.00</td>\n",
       "      <td>504</td>\n",
       "      <td>2.915</td>\n",
       "      <td>13.266</td>\n",
       "      <td>34.697</td>\n",
       "      <td>19.706</td>\n",
       "      <td>29.0</td>\n",
       "      <td>2.669177</td>\n",
       "      <td>0.0</td>\n",
       "      <td>114.594209</td>\n",
       "      <td>-0.120958</td>\n",
       "      <td>-0.283016</td>\n",
       "    </tr>\n",
       "    <tr>\n",
       "      <th>8</th>\n",
       "      <td>ATOM</td>\n",
       "      <td>4621</td>\n",
       "      <td>OH</td>\n",
       "      <td>TYR</td>\n",
       "      <td>297</td>\n",
       "      <td>-4.032573</td>\n",
       "      <td>6.892957</td>\n",
       "      <td>-4.913786</td>\n",
       "      <td>-0.49</td>\n",
       "      <td>4487</td>\n",
       "      <td>2.880</td>\n",
       "      <td>12.060</td>\n",
       "      <td>38.867</td>\n",
       "      <td>18.453</td>\n",
       "      <td>274.0</td>\n",
       "      <td>2.777046</td>\n",
       "      <td>0.0</td>\n",
       "      <td>114.594209</td>\n",
       "      <td>-0.120958</td>\n",
       "      <td>-0.283016</td>\n",
       "    </tr>\n",
       "    <tr>\n",
       "      <th>12</th>\n",
       "      <td>ATOM</td>\n",
       "      <td>3191</td>\n",
       "      <td>OE2</td>\n",
       "      <td>GLU</td>\n",
       "      <td>214</td>\n",
       "      <td>-0.572573</td>\n",
       "      <td>27.617957</td>\n",
       "      <td>-8.742786</td>\n",
       "      <td>-0.55</td>\n",
       "      <td>3102</td>\n",
       "      <td>2.880</td>\n",
       "      <td>15.520</td>\n",
       "      <td>59.592</td>\n",
       "      <td>14.624</td>\n",
       "      <td>191.0</td>\n",
       "      <td>3.207037</td>\n",
       "      <td>100.0</td>\n",
       "      <td>66.713813</td>\n",
       "      <td>-0.063871</td>\n",
       "      <td>0.315560</td>\n",
       "    </tr>\n",
       "    <tr>\n",
       "      <th>15</th>\n",
       "      <td>ATOM</td>\n",
       "      <td>4586</td>\n",
       "      <td>HB3</td>\n",
       "      <td>GLU</td>\n",
       "      <td>295</td>\n",
       "      <td>-5.957573</td>\n",
       "      <td>7.336957</td>\n",
       "      <td>-2.780786</td>\n",
       "      <td>0.00</td>\n",
       "      <td>4452</td>\n",
       "      <td>2.839</td>\n",
       "      <td>10.135</td>\n",
       "      <td>39.311</td>\n",
       "      <td>20.586</td>\n",
       "      <td>272.0</td>\n",
       "      <td>3.367510</td>\n",
       "      <td>119.0</td>\n",
       "      <td>62.857275</td>\n",
       "      <td>-0.165398</td>\n",
       "      <td>-0.400970</td>\n",
       "    </tr>\n",
       "    <tr>\n",
       "      <th>16</th>\n",
       "      <td>ATOM</td>\n",
       "      <td>3958</td>\n",
       "      <td>OE2</td>\n",
       "      <td>GLU</td>\n",
       "      <td>261</td>\n",
       "      <td>5.141427</td>\n",
       "      <td>17.211957</td>\n",
       "      <td>-15.350786</td>\n",
       "      <td>-0.55</td>\n",
       "      <td>3854</td>\n",
       "      <td>2.880</td>\n",
       "      <td>21.234</td>\n",
       "      <td>49.186</td>\n",
       "      <td>8.016</td>\n",
       "      <td>238.0</td>\n",
       "      <td>4.659577</td>\n",
       "      <td>133.0</td>\n",
       "      <td>56.318094</td>\n",
       "      <td>-0.085311</td>\n",
       "      <td>-0.120393</td>\n",
       "    </tr>\n",
       "    <tr>\n",
       "      <th>19</th>\n",
       "      <td>ATOM</td>\n",
       "      <td>4008</td>\n",
       "      <td>OE1</td>\n",
       "      <td>GLU</td>\n",
       "      <td>264</td>\n",
       "      <td>4.690427</td>\n",
       "      <td>10.616957</td>\n",
       "      <td>-11.367786</td>\n",
       "      <td>-0.55</td>\n",
       "      <td>3904</td>\n",
       "      <td>2.880</td>\n",
       "      <td>20.783</td>\n",
       "      <td>42.591</td>\n",
       "      <td>11.999</td>\n",
       "      <td>241.0</td>\n",
       "      <td>4.726911</td>\n",
       "      <td>147.0</td>\n",
       "      <td>53.609651</td>\n",
       "      <td>-0.066196</td>\n",
       "      <td>0.062971</td>\n",
       "    </tr>\n",
       "    <tr>\n",
       "      <th>20</th>\n",
       "      <td>ATOM</td>\n",
       "      <td>461</td>\n",
       "      <td>HG</td>\n",
       "      <td>CYS</td>\n",
       "      <td>53</td>\n",
       "      <td>0.105427</td>\n",
       "      <td>-2.616043</td>\n",
       "      <td>1.906214</td>\n",
       "      <td>0.29</td>\n",
       "      <td>517</td>\n",
       "      <td>2.600</td>\n",
       "      <td>16.198</td>\n",
       "      <td>29.358</td>\n",
       "      <td>25.273</td>\n",
       "      <td>30.0</td>\n",
       "      <td>0.735122</td>\n",
       "      <td>153.0</td>\n",
       "      <td>50.621884</td>\n",
       "      <td>-0.087406</td>\n",
       "      <td>0.140111</td>\n",
       "    </tr>\n",
       "    <tr>\n",
       "      <th>26</th>\n",
       "      <td>ATOM</td>\n",
       "      <td>1289</td>\n",
       "      <td>HA</td>\n",
       "      <td>ASP</td>\n",
       "      <td>98</td>\n",
       "      <td>3.372427</td>\n",
       "      <td>-15.768043</td>\n",
       "      <td>6.871214</td>\n",
       "      <td>0.00</td>\n",
       "      <td>1238</td>\n",
       "      <td>2.600</td>\n",
       "      <td>19.465</td>\n",
       "      <td>16.206</td>\n",
       "      <td>30.238</td>\n",
       "      <td>75.0</td>\n",
       "      <td>3.363278</td>\n",
       "      <td>153.0</td>\n",
       "      <td>50.621884</td>\n",
       "      <td>-0.087406</td>\n",
       "      <td>0.140111</td>\n",
       "    </tr>\n",
       "  </tbody>\n",
       "</table>\n",
       "</div>"
      ],
      "text/plain": [
       "   record_name  atom_number atom_name residue_name  residue_number   x_coord  \\\n",
       "4         ATOM          373       HG3          GLU              48 -4.550573   \n",
       "7         ATOM          448       HB3          TYR              52 -2.826573   \n",
       "8         ATOM         4621        OH          TYR             297 -4.032573   \n",
       "12        ATOM         3191       OE2          GLU             214 -0.572573   \n",
       "15        ATOM         4586       HB3          GLU             295 -5.957573   \n",
       "16        ATOM         3958       OE2          GLU             261  5.141427   \n",
       "19        ATOM         4008       OE1          GLU             264  4.690427   \n",
       "20        ATOM          461        HG          CYS              53  0.105427   \n",
       "26        ATOM         1289        HA          ASP              98  3.372427   \n",
       "\n",
       "      y_coord    z_coord  occupancy  line_idx  depth  x_orig  y_orig  z_orig  \\\n",
       "4   14.750957  -8.576786       0.00       429  2.600  11.542  46.725  14.790   \n",
       "7    2.722957  -3.660786       0.00       504  2.915  13.266  34.697  19.706   \n",
       "8    6.892957  -4.913786      -0.49      4487  2.880  12.060  38.867  18.453   \n",
       "12  27.617957  -8.742786      -0.55      3102  2.880  15.520  59.592  14.624   \n",
       "15   7.336957  -2.780786       0.00      4452  2.839  10.135  39.311  20.586   \n",
       "16  17.211957 -15.350786      -0.55      3854  2.880  21.234  49.186   8.016   \n",
       "19  10.616957 -11.367786      -0.55      3904  2.880  20.783  42.591  11.999   \n",
       "20  -2.616043   1.906214       0.29       517  2.600  16.198  29.358  25.273   \n",
       "26 -15.768043   6.871214       0.00      1238  2.600  19.465  16.206  30.238   \n",
       "\n",
       "    my_residue_number  d_to_vec  orientation_num    integral  potential_V  \\\n",
       "4                25.0  2.258941              0.0  114.594209    -0.120958   \n",
       "7                29.0  2.669177              0.0  114.594209    -0.120958   \n",
       "8               274.0  2.777046              0.0  114.594209    -0.120958   \n",
       "12              191.0  3.207037            100.0   66.713813    -0.063871   \n",
       "15              272.0  3.367510            119.0   62.857275    -0.165398   \n",
       "16              238.0  4.659577            133.0   56.318094    -0.085311   \n",
       "19              241.0  4.726911            147.0   53.609651    -0.066196   \n",
       "20               30.0  0.735122            153.0   50.621884    -0.087406   \n",
       "26               75.0  3.363278            153.0   50.621884    -0.087406   \n",
       "\n",
       "    charge_C_m2  \n",
       "4     -0.283016  \n",
       "7     -0.283016  \n",
       "8     -0.283016  \n",
       "12     0.315560  \n",
       "15    -0.400970  \n",
       "16    -0.120393  \n",
       "19     0.062971  \n",
       "20     0.140111  \n",
       "26     0.140111  "
      ]
     },
     "execution_count": 357,
     "metadata": {},
     "output_type": "execute_result"
    }
   ],
   "source": [
    "selection_pruned[f]"
   ]
  },
  {
   "cell_type": "code",
   "execution_count": null,
   "metadata": {},
   "outputs": [],
   "source": []
  },
  {
   "cell_type": "code",
   "execution_count": null,
   "metadata": {},
   "outputs": [],
   "source": []
  },
  {
   "cell_type": "code",
   "execution_count": null,
   "metadata": {},
   "outputs": [],
   "source": []
  },
  {
   "cell_type": "code",
   "execution_count": null,
   "metadata": {},
   "outputs": [],
   "source": []
  },
  {
   "cell_type": "code",
   "execution_count": null,
   "metadata": {},
   "outputs": [],
   "source": []
  },
  {
   "cell_type": "code",
   "execution_count": null,
   "metadata": {},
   "outputs": [],
   "source": []
  },
  {
   "cell_type": "code",
   "execution_count": null,
   "metadata": {},
   "outputs": [],
   "source": []
  },
  {
   "cell_type": "code",
   "execution_count": null,
   "metadata": {},
   "outputs": [],
   "source": []
  },
  {
   "cell_type": "code",
   "execution_count": null,
   "metadata": {},
   "outputs": [],
   "source": []
  },
  {
   "cell_type": "code",
   "execution_count": null,
   "metadata": {},
   "outputs": [],
   "source": []
  },
  {
   "cell_type": "code",
   "execution_count": null,
   "metadata": {},
   "outputs": [],
   "source": []
  },
  {
   "cell_type": "code",
   "execution_count": null,
   "metadata": {},
   "outputs": [],
   "source": []
  },
  {
   "cell_type": "code",
   "execution_count": null,
   "metadata": {},
   "outputs": [],
   "source": []
  },
  {
   "cell_type": "code",
   "execution_count": null,
   "metadata": {},
   "outputs": [],
   "source": []
  },
  {
   "cell_type": "code",
   "execution_count": null,
   "metadata": {},
   "outputs": [],
   "source": []
  },
  {
   "cell_type": "code",
   "execution_count": null,
   "metadata": {},
   "outputs": [],
   "source": []
  },
  {
   "cell_type": "code",
   "execution_count": null,
   "metadata": {},
   "outputs": [],
   "source": []
  },
  {
   "cell_type": "code",
   "execution_count": null,
   "metadata": {},
   "outputs": [],
   "source": []
  },
  {
   "cell_type": "code",
   "execution_count": null,
   "metadata": {},
   "outputs": [],
   "source": []
  },
  {
   "cell_type": "code",
   "execution_count": null,
   "metadata": {},
   "outputs": [],
   "source": []
  },
  {
   "cell_type": "code",
   "execution_count": null,
   "metadata": {},
   "outputs": [],
   "source": []
  },
  {
   "cell_type": "code",
   "execution_count": null,
   "metadata": {},
   "outputs": [],
   "source": []
  },
  {
   "cell_type": "code",
   "execution_count": null,
   "metadata": {},
   "outputs": [],
   "source": []
  },
  {
   "cell_type": "code",
   "execution_count": null,
   "metadata": {},
   "outputs": [],
   "source": []
  },
  {
   "cell_type": "code",
   "execution_count": null,
   "metadata": {},
   "outputs": [],
   "source": []
  },
  {
   "cell_type": "code",
   "execution_count": null,
   "metadata": {},
   "outputs": [],
   "source": []
  },
  {
   "cell_type": "code",
   "execution_count": null,
   "metadata": {},
   "outputs": [],
   "source": []
  },
  {
   "cell_type": "code",
   "execution_count": null,
   "metadata": {},
   "outputs": [],
   "source": []
  }
 ],
 "metadata": {
  "kernelspec": {
   "display_name": "Python 3",
   "language": "python",
   "name": "python3"
  },
  "language_info": {
   "codemirror_mode": {
    "name": "ipython",
    "version": 3
   },
   "file_extension": ".py",
   "mimetype": "text/x-python",
   "name": "python",
   "nbconvert_exporter": "python",
   "pygments_lexer": "ipython3",
   "version": "3.7.4"
  }
 },
 "nbformat": 4,
 "nbformat_minor": 2
}
